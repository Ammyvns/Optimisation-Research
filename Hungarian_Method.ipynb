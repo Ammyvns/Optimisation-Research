{
 "cells": [
  {
   "cell_type": "code",
   "execution_count": 4,
   "metadata": {},
   "outputs": [],
   "source": [
    "import numpy as np"
   ]
  },
  {
   "cell_type": "code",
   "execution_count": 5,
   "metadata": {
    "collapsed": true
   },
   "outputs": [],
   "source": [
    "def min_zero_row(zero_mat, mark_zero):\n",
    "\n",
    "\n",
    "    #Find the row\n",
    "    min_row = [99999, -1]\n",
    "\n",
    "    for row_num in range(zero_mat.shape[0]): \n",
    "        if np.sum(zero_mat[row_num] == True) > 0 and min_row[0] > np.sum(zero_mat[row_num] == True):\n",
    "            min_row = [np.sum(zero_mat[row_num] == True), row_num]\n",
    "\n",
    "    # Marked the specific row and column as False\n",
    "    zero_index = np.where(zero_mat[min_row[1]] == True)[0][0]\n",
    "    mark_zero.append((min_row[1], zero_index))\n",
    "    zero_mat[min_row[1], :] = False\n",
    "    zero_mat[:, zero_index] = False"
   ]
  },
  {
   "cell_type": "code",
   "execution_count": 6,
   "metadata": {
    "collapsed": true
   },
   "outputs": [],
   "source": [
    "def mark_matrix(mat):\n",
    "\n",
    "\n",
    "    #Transform the matrix to boolean matrix(0 = True, others = False)\n",
    "    cur_mat = mat\n",
    "    zero_bool_mat = (cur_mat == 0)\n",
    "    zero_bool_mat_copy = zero_bool_mat.copy()\n",
    "\n",
    "    #Recording possible answer positions by marked_zero\n",
    "    marked_zero = []\n",
    "    while (True in zero_bool_mat_copy):\n",
    "        min_zero_row(zero_bool_mat_copy, marked_zero)\n",
    "    \n",
    "    #Recording the row and column positions seperately.\n",
    "    marked_zero_row = []\n",
    "    marked_zero_col = []\n",
    "    for i in range(len(marked_zero)):\n",
    "        marked_zero_row.append(marked_zero[i][0])\n",
    "        marked_zero_col.append(marked_zero[i][1])\n",
    "\n",
    "    #Step 2-2-1\n",
    "    non_marked_row = list(set(range(cur_mat.shape[0])) - set(marked_zero_row))\n",
    "    \n",
    "    marked_cols = []\n",
    "    check_switch = True\n",
    "    while check_switch:\n",
    "        check_switch = False\n",
    "        for i in range(len(non_marked_row)):\n",
    "            row_array = zero_bool_mat[non_marked_row[i], :]\n",
    "            for j in range(row_array.shape[0]):\n",
    "                #Step 2-2-2\n",
    "                if row_array[j] == True and j not in marked_cols:\n",
    "                    #Step 2-2-3\n",
    "                    marked_cols.append(j)\n",
    "                    check_switch = True\n",
    "\n",
    "        for row_num, col_num in marked_zero:\n",
    "            #Step 2-2-4\n",
    "            if row_num not in non_marked_row and col_num in marked_cols:\n",
    "                #Step 2-2-5\n",
    "                non_marked_row.append(row_num)\n",
    "                check_switch = True\n",
    "    #Step 2-2-6\n",
    "    marked_rows = list(set(range(mat.shape[0])) - set(non_marked_row))\n",
    "\n",
    "    return(marked_zero, marked_rows, marked_cols)"
   ]
  },
  {
   "cell_type": "code",
   "execution_count": 7,
   "metadata": {
    "collapsed": true
   },
   "outputs": [],
   "source": [
    "def adjust_matrix(mat, cover_rows, cover_cols):\n",
    "    cur_mat = mat\n",
    "    non_zero_element = []\n",
    "\n",
    "    #Step 4-1\n",
    "    for row in range(len(cur_mat)):\n",
    "        if row not in cover_rows:\n",
    "            for i in range(len(cur_mat[row])):\n",
    "                if i not in cover_cols:\n",
    "                    non_zero_element.append(cur_mat[row][i])\n",
    "    min_num = min(non_zero_element)\n",
    "\n",
    "    #Step 4-2\n",
    "    for row in range(len(cur_mat)):\n",
    "        if row not in cover_rows:\n",
    "            for i in range(len(cur_mat[row])):\n",
    "                if i not in cover_cols:\n",
    "                    cur_mat[row, i] = cur_mat[row, i] - min_num\n",
    "    #Step 4-3\n",
    "    for row in range(len(cover_rows)):  \n",
    "        for col in range(len(cover_cols)):\n",
    "            cur_mat[cover_rows[row], cover_cols[col]] = cur_mat[cover_rows[row], cover_cols[col]] + min_num\n",
    "    return cur_mat"
   ]
  },
  {
   "cell_type": "code",
   "execution_count": 8,
   "metadata": {
    "collapsed": true
   },
   "outputs": [],
   "source": [
    "def hungarian_algorithm(mat): \n",
    "    dim = mat.shape[0]\n",
    "    cur_mat = mat\n",
    "\n",
    "    #Step 1 - Every column and every row subtract its internal minimum\n",
    "    for row_num in range(mat.shape[0]): \n",
    "        cur_mat[row_num] = cur_mat[row_num] - np.min(cur_mat[row_num])\n",
    "    \n",
    "    for col_num in range(mat.shape[1]): \n",
    "        cur_mat[:,col_num] = cur_mat[:,col_num] - np.min(cur_mat[:,col_num])\n",
    "    zero_count = 0\n",
    "    while zero_count < dim:\n",
    "        #Step 2 & 3\n",
    "        ans_pos, marked_rows, marked_cols = mark_matrix(cur_mat)\n",
    "        zero_count = len(marked_rows) + len(marked_cols)\n",
    "\n",
    "        if zero_count < dim:\n",
    "            cur_mat = adjust_matrix(cur_mat, marked_rows, marked_cols)\n",
    "\n",
    "    return ans_pos"
   ]
  },
  {
   "cell_type": "code",
   "execution_count": 9,
   "metadata": {
    "collapsed": true
   },
   "outputs": [],
   "source": [
    "def ans_calculation(mat, pos):\n",
    "    total = 0\n",
    "    ans_mat = np.zeros((mat.shape[0], mat.shape[1]))\n",
    "    for i in range(len(pos)):\n",
    "        total += mat[pos[i][0], pos[i][1]]\n",
    "        ans_mat[pos[i][0], pos[i][1]] = mat[pos[i][0], pos[i][1]]\n",
    "    return total, ans_mat"
   ]
  },
  {
   "cell_type": "code",
   "execution_count": 10,
   "metadata": {},
   "outputs": [
    {
     "name": "stdout",
     "output_type": "stream",
     "text": [
      "Linear Assignment problem result: 8\n",
      "[[ 2.  0.  0.  0.  0.]\n",
      " [ 0.  0.  0.  0.  1.]\n",
      " [ 0.  0.  0.  3.  0.]\n",
      " [ 0.  2.  0.  0.  0.]\n",
      " [ 0.  0.  0.  0.  0.]]\n",
      "Linear Assignment problem result: 25\n",
      "[[ 0.  9.  0.  0.  0.]\n",
      " [ 6.  0.  0.  0.  0.]\n",
      " [ 0.  0.  0.  0.  1.]\n",
      " [ 0.  0.  0.  0.  0.]\n",
      " [ 0.  0.  9.  0.  0.]]\n"
     ]
    }
   ],
   "source": [
    "def main():\n",
    "\n",
    "    #The matrix who you want to find the minimum sum\n",
    "    cost_matrix = np.array([[2, 9, 2, 7, 1],\n",
    "                [6, 8, 7, 6, 1],\n",
    "                [4, 6, 5, 3, 1],\n",
    "                [4, 2, 7, 3, 1],\n",
    "                [5, 3, 9, 5, 1]])\n",
    "    ans_pos = hungarian_algorithm(cost_matrix.copy())#Get the element position.\n",
    "    ans, ans_mat = ans_calculation(cost_matrix, ans_pos)#Get the minimum or maximum value and corresponding matrix.\n",
    "\n",
    "    #Show the result\n",
    "    print(f\"Linear Assignment problem result: {ans:.0f}\\n{ans_mat}\")\n",
    "\n",
    "    #If you want to find the maximum value, using the code as follows: \n",
    "    #Using maximum value in the cost_matrix and cost_matrix to get net_matrix\n",
    "    profit_matrix = np.array([[2, 9, 2, 7, 1],\n",
    "                [6, 8, 7, 6, 1],\n",
    "                [4, 6, 5, 3, 1],\n",
    "                [4, 2, 7, 3, 1],\n",
    "                [5, 3, 9, 5, 1]])\n",
    "    max_value = np.max(profit_matrix)\n",
    "    cost_matrix = max_value - profit_matrix\n",
    "    ans_pos = hungarian_algorithm(cost_matrix.copy())#Get the element position.\n",
    "    ans, ans_mat = ans_calculation(profit_matrix, ans_pos)#Get the minimum or maximum value and corresponding matrix.\n",
    "    #Show the result\n",
    "    print(f\"Linear Assignment problem result: {ans:.0f}\\n{ans_mat}\")\n",
    "\n",
    "if __name__ == '__main__':\n",
    "    main()"
   ]
  },
  {
   "cell_type": "code",
   "execution_count": null,
   "metadata": {
    "collapsed": true
   },
   "outputs": [],
   "source": []
  }
 ],
 "metadata": {
  "kernelspec": {
   "display_name": "Python 3",
   "language": "python",
   "name": "python3"
  },
  "language_info": {
   "codemirror_mode": {
    "name": "ipython",
    "version": 3
   },
   "file_extension": ".py",
   "mimetype": "text/x-python",
   "name": "python",
   "nbconvert_exporter": "python",
   "pygments_lexer": "ipython3",
   "version": "3.6.2"
  }
 },
 "nbformat": 4,
 "nbformat_minor": 2
}
